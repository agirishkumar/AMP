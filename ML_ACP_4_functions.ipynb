{
  "nbformat": 4,
  "nbformat_minor": 0,
  "metadata": {
    "colab": {
      "name": "ML ACP  4 functions.ipynb",
      "provenance": [],
      "collapsed_sections": [
        "2E2XwwoUWbtw",
        "-XUPajcl5Xug",
        "RyAd8gHWP2IB",
        "mZYPeKm97sFk",
        "Djpac1bjQvRp",
        "BQHwqXaV5eTe",
        "H9MRC7xR8eJi"
      ],
      "authorship_tag": "ABX9TyOFbkGSTczu4jRtAuBDS865",
      "include_colab_link": true
    },
    "kernelspec": {
      "name": "python3",
      "display_name": "Python 3"
    },
    "language_info": {
      "name": "python"
    }
  },
  "cells": [
    {
      "cell_type": "markdown",
      "metadata": {
        "id": "view-in-github",
        "colab_type": "text"
      },
      "source": [
        "<a href=\"https://colab.research.google.com/github/agirishkumar/AMP/blob/main/ML_ACP_4_functions.ipynb\" target=\"_parent\"><img src=\"https://colab.research.google.com/assets/colab-badge.svg\" alt=\"Open In Colab\"/></a>"
      ]
    },
    {
      "cell_type": "markdown",
      "metadata": {
        "id": "2E2XwwoUWbtw"
      },
      "source": [
        "# **Install conda**"
      ]
    },
    {
      "cell_type": "code",
      "metadata": {
        "colab": {
          "base_uri": "https://localhost:8080/"
        },
        "id": "jfYwjDE9Wewj",
        "outputId": "e00ae4ad-ec2c-405d-a2e7-7e439be4494f"
      },
      "source": [
        "################################################################################\n",
        "# INSTALL CONDA ON GOOGLE COLAB\n",
        "################################################################################\n",
        "! wget https://repo.anaconda.com/miniconda/Miniconda3-py37_4.8.2-Linux-x86_64.sh\n",
        "! chmod +x Miniconda3-py37_4.8.2-Linux-x86_64.sh\n",
        "! bash ./Miniconda3-py37_4.8.2-Linux-x86_64.sh -b -f -p /usr/local\n",
        "import sys\n",
        "sys.path.append('/usr/local/lib/python3.7/site-packages/')"
      ],
      "execution_count": 1,
      "outputs": [
        {
          "output_type": "stream",
          "text": [
            "--2021-05-29 10:24:51--  https://repo.anaconda.com/miniconda/Miniconda3-py37_4.8.2-Linux-x86_64.sh\n",
            "Resolving repo.anaconda.com (repo.anaconda.com)... 104.16.131.3, 104.16.130.3, 2606:4700::6810:8303, ...\n",
            "Connecting to repo.anaconda.com (repo.anaconda.com)|104.16.131.3|:443... connected.\n",
            "HTTP request sent, awaiting response... 200 OK\n",
            "Length: 85055499 (81M) [application/x-sh]\n",
            "Saving to: ‘Miniconda3-py37_4.8.2-Linux-x86_64.sh’\n",
            "\n",
            "Miniconda3-py37_4.8 100%[===================>]  81.12M   176MB/s    in 0.5s    \n",
            "\n",
            "2021-05-29 10:24:51 (176 MB/s) - ‘Miniconda3-py37_4.8.2-Linux-x86_64.sh’ saved [85055499/85055499]\n",
            "\n",
            "PREFIX=/usr/local\n",
            "Unpacking payload ...\n",
            "Collecting package metadata (current_repodata.json): - \b\b\\ \b\b| \b\bdone\n",
            "Solving environment: - \b\b\\ \b\bdone\n",
            "\n",
            "## Package Plan ##\n",
            "\n",
            "  environment location: /usr/local\n",
            "\n",
            "  added / updated specs:\n",
            "    - _libgcc_mutex==0.1=main\n",
            "    - asn1crypto==1.3.0=py37_0\n",
            "    - ca-certificates==2020.1.1=0\n",
            "    - certifi==2019.11.28=py37_0\n",
            "    - cffi==1.14.0=py37h2e261b9_0\n",
            "    - chardet==3.0.4=py37_1003\n",
            "    - conda-package-handling==1.6.0=py37h7b6447c_0\n",
            "    - conda==4.8.2=py37_0\n",
            "    - cryptography==2.8=py37h1ba5d50_0\n",
            "    - idna==2.8=py37_0\n",
            "    - ld_impl_linux-64==2.33.1=h53a641e_7\n",
            "    - libedit==3.1.20181209=hc058e9b_0\n",
            "    - libffi==3.2.1=hd88cf55_4\n",
            "    - libgcc-ng==9.1.0=hdf63c60_0\n",
            "    - libstdcxx-ng==9.1.0=hdf63c60_0\n",
            "    - ncurses==6.2=he6710b0_0\n",
            "    - openssl==1.1.1d=h7b6447c_4\n",
            "    - pip==20.0.2=py37_1\n",
            "    - pycosat==0.6.3=py37h7b6447c_0\n",
            "    - pycparser==2.19=py37_0\n",
            "    - pyopenssl==19.1.0=py37_0\n",
            "    - pysocks==1.7.1=py37_0\n",
            "    - python==3.7.6=h0371630_2\n",
            "    - readline==7.0=h7b6447c_5\n",
            "    - requests==2.22.0=py37_1\n",
            "    - ruamel_yaml==0.15.87=py37h7b6447c_0\n",
            "    - setuptools==45.2.0=py37_0\n",
            "    - six==1.14.0=py37_0\n",
            "    - sqlite==3.31.1=h7b6447c_0\n",
            "    - tk==8.6.8=hbc83047_0\n",
            "    - tqdm==4.42.1=py_0\n",
            "    - urllib3==1.25.8=py37_0\n",
            "    - wheel==0.34.2=py37_0\n",
            "    - xz==5.2.4=h14c3975_4\n",
            "    - yaml==0.1.7=had09818_2\n",
            "    - zlib==1.2.11=h7b6447c_3\n",
            "\n",
            "\n",
            "The following NEW packages will be INSTALLED:\n",
            "\n",
            "  _libgcc_mutex      pkgs/main/linux-64::_libgcc_mutex-0.1-main\n",
            "  asn1crypto         pkgs/main/linux-64::asn1crypto-1.3.0-py37_0\n",
            "  ca-certificates    pkgs/main/linux-64::ca-certificates-2020.1.1-0\n",
            "  certifi            pkgs/main/linux-64::certifi-2019.11.28-py37_0\n",
            "  cffi               pkgs/main/linux-64::cffi-1.14.0-py37h2e261b9_0\n",
            "  chardet            pkgs/main/linux-64::chardet-3.0.4-py37_1003\n",
            "  conda              pkgs/main/linux-64::conda-4.8.2-py37_0\n",
            "  conda-package-han~ pkgs/main/linux-64::conda-package-handling-1.6.0-py37h7b6447c_0\n",
            "  cryptography       pkgs/main/linux-64::cryptography-2.8-py37h1ba5d50_0\n",
            "  idna               pkgs/main/linux-64::idna-2.8-py37_0\n",
            "  ld_impl_linux-64   pkgs/main/linux-64::ld_impl_linux-64-2.33.1-h53a641e_7\n",
            "  libedit            pkgs/main/linux-64::libedit-3.1.20181209-hc058e9b_0\n",
            "  libffi             pkgs/main/linux-64::libffi-3.2.1-hd88cf55_4\n",
            "  libgcc-ng          pkgs/main/linux-64::libgcc-ng-9.1.0-hdf63c60_0\n",
            "  libstdcxx-ng       pkgs/main/linux-64::libstdcxx-ng-9.1.0-hdf63c60_0\n",
            "  ncurses            pkgs/main/linux-64::ncurses-6.2-he6710b0_0\n",
            "  openssl            pkgs/main/linux-64::openssl-1.1.1d-h7b6447c_4\n",
            "  pip                pkgs/main/linux-64::pip-20.0.2-py37_1\n",
            "  pycosat            pkgs/main/linux-64::pycosat-0.6.3-py37h7b6447c_0\n",
            "  pycparser          pkgs/main/linux-64::pycparser-2.19-py37_0\n",
            "  pyopenssl          pkgs/main/linux-64::pyopenssl-19.1.0-py37_0\n",
            "  pysocks            pkgs/main/linux-64::pysocks-1.7.1-py37_0\n",
            "  python             pkgs/main/linux-64::python-3.7.6-h0371630_2\n",
            "  readline           pkgs/main/linux-64::readline-7.0-h7b6447c_5\n",
            "  requests           pkgs/main/linux-64::requests-2.22.0-py37_1\n",
            "  ruamel_yaml        pkgs/main/linux-64::ruamel_yaml-0.15.87-py37h7b6447c_0\n",
            "  setuptools         pkgs/main/linux-64::setuptools-45.2.0-py37_0\n",
            "  six                pkgs/main/linux-64::six-1.14.0-py37_0\n",
            "  sqlite             pkgs/main/linux-64::sqlite-3.31.1-h7b6447c_0\n",
            "  tk                 pkgs/main/linux-64::tk-8.6.8-hbc83047_0\n",
            "  tqdm               pkgs/main/noarch::tqdm-4.42.1-py_0\n",
            "  urllib3            pkgs/main/linux-64::urllib3-1.25.8-py37_0\n",
            "  wheel              pkgs/main/linux-64::wheel-0.34.2-py37_0\n",
            "  xz                 pkgs/main/linux-64::xz-5.2.4-h14c3975_4\n",
            "  yaml               pkgs/main/linux-64::yaml-0.1.7-had09818_2\n",
            "  zlib               pkgs/main/linux-64::zlib-1.2.11-h7b6447c_3\n",
            "\n",
            "\n",
            "Preparing transaction: / \b\b- \b\b\\ \b\b| \b\bdone\n",
            "Executing transaction: - \b\b\\ \b\b| \b\b/ \b\b- \b\b\\ \b\b| \b\b/ \b\b- \b\b\\ \b\b| \b\b/ \b\b- \b\b\\ \b\b| \b\bdone\n",
            "installation finished.\n",
            "WARNING:\n",
            "    You currently have a PYTHONPATH environment variable set. This may cause\n",
            "    unexpected behavior when running the Python interpreter in Miniconda3.\n",
            "    For best results, please verify that your PYTHONPATH only points to\n",
            "    directories of packages that are compatible with the Python interpreter\n",
            "    in Miniconda3: /usr/local\n"
          ],
          "name": "stdout"
        }
      ]
    },
    {
      "cell_type": "markdown",
      "metadata": {
        "id": "-XUPajcl5Xug"
      },
      "source": [
        "# **Download and Install Pfeature**"
      ]
    },
    {
      "cell_type": "code",
      "metadata": {
        "id": "t5809Cl51Ogn"
      },
      "source": [
        "! wget https://github.com/raghavagps/Pfeature/raw/master/PyLib/Pfeature.zip"
      ],
      "execution_count": null,
      "outputs": []
    },
    {
      "cell_type": "code",
      "metadata": {
        "id": "TzCcA2aJ2MTA"
      },
      "source": [
        "! unzip Pfeature.zip"
      ],
      "execution_count": null,
      "outputs": []
    },
    {
      "cell_type": "code",
      "metadata": {
        "id": "Db0F7cjQ1aZF"
      },
      "source": [
        "% cd Pfeature"
      ],
      "execution_count": null,
      "outputs": []
    },
    {
      "cell_type": "code",
      "metadata": {
        "id": "Es6GHcJU2ncB"
      },
      "source": [
        "! python setup.py install"
      ],
      "execution_count": null,
      "outputs": []
    },
    {
      "cell_type": "markdown",
      "metadata": {
        "id": "RyAd8gHWP2IB"
      },
      "source": [
        "# **Install CD-HIT**"
      ]
    },
    {
      "cell_type": "code",
      "metadata": {
        "id": "Q3UMOU6yTYwk"
      },
      "source": [
        "! conda install -c bioconda cd-hit -y"
      ],
      "execution_count": null,
      "outputs": []
    },
    {
      "cell_type": "markdown",
      "metadata": {
        "id": "mZYPeKm97sFk"
      },
      "source": [
        "# **Load peptide dataset**"
      ]
    },
    {
      "cell_type": "code",
      "metadata": {
        "id": "XGNZ-_0JB68Z"
      },
      "source": [
        "! wget https://raw.githubusercontent.com/agirishkumar/trailswithACP/main/Set2/train_pos.fasta"
      ],
      "execution_count": null,
      "outputs": []
    },
    {
      "cell_type": "code",
      "metadata": {
        "id": "FA6Vue0LD0_t"
      },
      "source": [
        "! wget https://raw.githubusercontent.com/agirishkumar/trailswithACP/main/Set2/train_ne.fasta"
      ],
      "execution_count": null,
      "outputs": []
    },
    {
      "cell_type": "code",
      "metadata": {
        "id": "5KxYLRWUg5E_"
      },
      "source": [
        "! cat train_pos.fasta"
      ],
      "execution_count": null,
      "outputs": []
    },
    {
      "cell_type": "code",
      "metadata": {
        "id": "685FLTT_AkBB"
      },
      "source": [
        "! cat train_ne.fasta"
      ],
      "execution_count": null,
      "outputs": []
    },
    {
      "cell_type": "markdown",
      "metadata": {
        "id": "Djpac1bjQvRp"
      },
      "source": [
        "# **Remove redundant sequences using CD-HIT**"
      ]
    },
    {
      "cell_type": "code",
      "metadata": {
        "id": "Y5fRRDbNQ0Ov"
      },
      "source": [
        "! cd-hit -i train_po.fasta -o train_po_cdhit.txt -c 0.99"
      ],
      "execution_count": null,
      "outputs": []
    },
    {
      "cell_type": "code",
      "metadata": {
        "id": "vh-yduYRFJhX"
      },
      "source": [
        "! cd-hit -i train_ne.fasta -o train_ne_cdhit.txt -c 0.99"
      ],
      "execution_count": null,
      "outputs": []
    },
    {
      "cell_type": "code",
      "metadata": {
        "id": "tWnEDNohYpF1"
      },
      "source": [
        "! ls -l"
      ],
      "execution_count": null,
      "outputs": []
    },
    {
      "cell_type": "code",
      "metadata": {
        "id": "eepRGc0sEcpQ"
      },
      "source": [
        "! grep \">\" train_po.fasta | wc -l"
      ],
      "execution_count": null,
      "outputs": []
    },
    {
      "cell_type": "code",
      "metadata": {
        "id": "CvjECuCMeUs7"
      },
      "source": [
        "! grep \">\" train_po_cdhit.txt | wc -l"
      ],
      "execution_count": null,
      "outputs": []
    },
    {
      "cell_type": "code",
      "metadata": {
        "id": "jLqHmYNeGLHM"
      },
      "source": [
        "! grep \">\" train_ne.fasta | wc -l"
      ],
      "execution_count": null,
      "outputs": []
    },
    {
      "cell_type": "code",
      "metadata": {
        "id": "A9iPIi9cFRxW"
      },
      "source": [
        "! grep \">\" train_ne_cdhit.txt | wc -l"
      ],
      "execution_count": null,
      "outputs": []
    },
    {
      "cell_type": "markdown",
      "metadata": {
        "id": "BQHwqXaV5eTe"
      },
      "source": [
        "# **Calculate features using the Pfeature library**\n",
        "\n",
        "Feature classes provided by Pfeature is summarized in the tables below.\n",
        "\n",
        "**Composition Based Features**\n",
        "\n",
        "Feature claass | Description | Function\n",
        "---|---|---\n",
        "AAC | Amino acid composition | aac_wp\n",
        "DPC | Dipeptide composition | dpc_wp\n",
        "TPC | Tripeptide composition | tpc_wp\n",
        "ABC | Atom and bond composition | atc_wp, btc_wp\n",
        "PCP | Physico-chemical properties | pcp_wp\n",
        "AAI | Amino acid index composition | aai_wp\n",
        "RRI | Repetitive Residue Information | rri_wp\n",
        "DDR | Distance distribution of residues |ddr_wp\n",
        "PRI | Physico-chemical properties repeat composition | pri_wp\n",
        "SEP | Shannon entropy | sep_wp\n",
        "SER | Shannon entropy of residue level | ser_wp\n",
        "SPC | Shannon entropy of physicochemical property | spc_wp\n",
        "ACR | Autocorrelation | acr_wp\n",
        "CTC | Conjoint Triad Calculation | ctc_wp\n",
        "CTD | Composition enhanced transition distribution | ctd_wp\n",
        "PAAC | Pseudo amino acid composition | paac_wp\n",
        "APAAC | Amphiphilic pseudo amino acid composition | apaac_wp\n",
        "QSO | Quasi sequence order | qos_wp\n",
        "SOC | Sequence order coupling | soc_wp\n",
        "\n",
        "[Pfeature Manual](https://webs.iiitd.edu.in/raghava/pfeature/Pfeature_Manual.pdf)"
      ]
    },
    {
      "cell_type": "markdown",
      "metadata": {
        "id": "2uMB1M0-tJNx"
      },
      "source": [
        "### **Define functions for calculating the different features**"
      ]
    },
    {
      "cell_type": "code",
      "metadata": {
        "id": "upc65MklPhS7"
      },
      "source": [
        "import pandas as pd"
      ],
      "execution_count": null,
      "outputs": []
    },
    {
      "cell_type": "code",
      "metadata": {
        "id": "fKGeLJAmbaWV"
      },
      "source": [
        "# Amino acid composition (AAC)\n",
        "\n",
        "from Pfeature.pfeature import aac_wp\n",
        "\n",
        "def aac(input):\n",
        "  a = input.rstrip('txt')\n",
        "  output = a + 'aac.csv'\n",
        "  df_out = aac_wp(input, output)\n",
        "  df_in = pd.read_csv(output)\n",
        "  return df_in\n",
        "\n",
        "aac('train_po_cdhit.txt')"
      ],
      "execution_count": null,
      "outputs": []
    },
    {
      "cell_type": "code",
      "metadata": {
        "id": "4TRL0i6vSooe"
      },
      "source": [
        "# Dipeptide composition (DPC)\n",
        "\n",
        "from Pfeature.pfeature import dpc_wp\n",
        "\n",
        "def dpc(input):\n",
        "  a = input.rstrip('txt')\n",
        "  output = a + 'dpc.csv'\n",
        "  df_out = dpc_wp(input, output, 1)\n",
        "  df_in = pd.read_csv(output)\n",
        "  return df_in\n",
        "\n",
        "dpc('train_po_cdhit.txt')"
      ],
      "execution_count": null,
      "outputs": []
    },
    {
      "cell_type": "code",
      "metadata": {
        "id": "uNjZSCItho2_"
      },
      "source": [
        "# Conjoint Triad Calculation (CTC)\n",
        "\n",
        "from Pfeature.pfeature import ctc_wp\n",
        "\n",
        "def ctc(input):\n",
        "  a = input.rstrip('txt')\n",
        "  output = a + 'ctc.csv'\n",
        "  df_out = ctc_wp(input, output, 1)\n",
        "  df_in = pd.read_csv(output)\n",
        "  return df_in\n",
        "\n",
        "ctc('train_po_cdhit.txt')"
      ],
      "execution_count": null,
      "outputs": []
    },
    {
      "cell_type": "code",
      "metadata": {
        "id": "CLzOl4jUihOo"
      },
      "source": [
        "# Distance distribution of residues (DDR)\n",
        "\n",
        "from Pfeature.pfeature import ddr_wp\n",
        "\n",
        "def ddr(input):\n",
        "  a = input.rstrip('txt')\n",
        "  output = a + 'ddr.csv'\n",
        "  df_out = ddr_wp(input, output, 1)\n",
        "  df_in = pd.read_csv(output)\n",
        "  return df_in\n",
        "\n",
        "ddr('train_po_cdhit.txt')"
      ],
      "execution_count": null,
      "outputs": []
    },
    {
      "cell_type": "markdown",
      "metadata": {
        "id": "-LFnEW2P8HJ_"
      },
      "source": [
        ""
      ]
    },
    {
      "cell_type": "code",
      "metadata": {
        "id": "byXTW1Zi42S4"
      },
      "source": [
        "pos = 'train_po_cdhit.txt'\n",
        "neg = 'train_ne_cdhit.txt'\n",
        "\n",
        "def feature_calc(po, ne, feature_name):\n",
        "  # Calculate feature\n",
        "  po_feature = feature_name(po)\n",
        "  ne_feature = feature_name(ne)\n",
        "  # Create class labels\n",
        "  po_class = pd.Series(['positive' for i in range(len(po_feature))])\n",
        "  ne_class = pd.Series(['negative' for i in range(len(ne_feature))])\n",
        "  # Combine po and ne\n",
        "  po_ne_class = pd.concat([po_class, ne_class], axis=0)\n",
        "  po_ne_class.name = 'class'\n",
        "  po_ne_feature = pd.concat([po_feature, ne_feature], axis=0)\n",
        "  # Combine feature and class\n",
        "  df = pd.concat([po_ne_feature, po_ne_class], axis=1)\n",
        "  return df\n",
        "\n",
        "feature = feature_calc(pos, neg, aac) # AAC\n",
        "#feature = feature_calc(pos, neg, dpc) # DPC\n",
        "#feature = feature_calc(pos, neg, ctc) # CTC\n",
        "#feature = feature_calc(pos, neg, ddr) # DDR\n",
        "feature"
      ],
      "execution_count": null,
      "outputs": []
    },
    {
      "cell_type": "markdown",
      "metadata": {
        "id": "H9MRC7xR8eJi"
      },
      "source": [
        "# **Data pre-processing**"
      ]
    },
    {
      "cell_type": "code",
      "metadata": {
        "id": "qtMfXpCzFyWC"
      },
      "source": [
        "feature"
      ],
      "execution_count": null,
      "outputs": []
    },
    {
      "cell_type": "code",
      "metadata": {
        "id": "rJXKLewidNOx"
      },
      "source": [
        "# Assigns the features to X and class label to Y\n",
        "X = feature.drop('class', axis=1)\n",
        "y = feature['class'].copy()"
      ],
      "execution_count": null,
      "outputs": []
    },
    {
      "cell_type": "code",
      "metadata": {
        "id": "F6vgehkJDNNq"
      },
      "source": [
        "# Encoding the Y class label\n",
        "y = y.map({\"positive\": 1, \"negative\": 0})  "
      ],
      "execution_count": null,
      "outputs": []
    },
    {
      "cell_type": "code",
      "metadata": {
        "id": "e-stJs6tp_xQ"
      },
      "source": [
        "X.shape"
      ],
      "execution_count": null,
      "outputs": []
    },
    {
      "cell_type": "code",
      "metadata": {
        "id": "4fhK1P57w64J"
      },
      "source": [
        "# Feature selection (Variance threshold)\n",
        "from sklearn.feature_selection import VarianceThreshold\n",
        "\n",
        "fs = VarianceThreshold(threshold=0.1)\n",
        "fs.fit_transform(X)\n",
        "X2.shape\n",
        "X2 = X.loc[:, fs.get_support()]\n",
        "X2"
      ],
      "execution_count": null,
      "outputs": []
    },
    {
      "cell_type": "code",
      "metadata": {
        "id": "k6DyYgenBRML"
      },
      "source": [
        "# Data split\n",
        "from sklearn.model_selection import train_test_split\n",
        "\n",
        "X_train, X_test, y_train, y_test = train_test_split(X2, y, test_size=0.2, random_state =42, stratify=y)"
      ],
      "execution_count": null,
      "outputs": []
    },
    {
      "cell_type": "markdown",
      "metadata": {
        "id": "yMZ7SIQPbSkl"
      },
      "source": [
        "---"
      ]
    },
    {
      "cell_type": "markdown",
      "metadata": {
        "id": "TOViHgf40APL"
      },
      "source": [
        "# **Random Forest**"
      ]
    },
    {
      "cell_type": "code",
      "metadata": {
        "id": "XdUSfIuzjBhR"
      },
      "source": [
        "# Build random forest model\n",
        "\n",
        "from sklearn.ensemble import RandomForestClassifier\n",
        "\n",
        "rf = RandomForestClassifier(n_estimators=500)\n",
        "\n",
        "rf.fit(X_train, y_train)"
      ],
      "execution_count": null,
      "outputs": []
    },
    {
      "cell_type": "markdown",
      "metadata": {
        "id": "ZK0-qLC2EfYh"
      },
      "source": [
        "### **Apply the model to make predictions**"
      ]
    },
    {
      "cell_type": "code",
      "metadata": {
        "id": "dKaPjMqPCAIn"
      },
      "source": [
        "y_train_pred = rf.predict(X_train)\n",
        "y_test_pred = rf.predict(X_test)"
      ],
      "execution_count": null,
      "outputs": []
    },
    {
      "cell_type": "markdown",
      "metadata": {
        "id": "kgQJf77qESEY"
      },
      "source": [
        "### **Model performance**"
      ]
    },
    {
      "cell_type": "code",
      "metadata": {
        "id": "UeyTuwVgJ04u"
      },
      "source": [
        "feature['class']"
      ],
      "execution_count": null,
      "outputs": []
    },
    {
      "cell_type": "code",
      "metadata": {
        "id": "FUnTxl_IdE4h"
      },
      "source": [
        "# Simplest and quickest way to obtain the model performance (Accuracy)\n",
        "rf.score(X_test,y_test)"
      ],
      "execution_count": null,
      "outputs": []
    },
    {
      "cell_type": "code",
      "metadata": {
        "id": "NM6v2tmNCOxI"
      },
      "source": [
        "# Accuracy\n",
        "from sklearn.metrics import accuracy_score\n",
        "\n",
        "accuracy_score(y_test, y_test_pred)"
      ],
      "execution_count": null,
      "outputs": []
    },
    {
      "cell_type": "code",
      "metadata": {
        "id": "WVM2CLaCerwd"
      },
      "source": [
        "# Matthew Correlation Coefficient\n",
        "from sklearn.metrics import matthews_corrcoef\n",
        "\n",
        "matthews_corrcoef(y_test, y_test_pred)"
      ],
      "execution_count": null,
      "outputs": []
    },
    {
      "cell_type": "code",
      "metadata": {
        "id": "9TYgRG7_Jl_y"
      },
      "source": [
        "# Confusion matrix\n",
        "from sklearn.metrics import confusion_matrix\n",
        "\n",
        "confusion_matrix(y_test, y_test_pred)"
      ],
      "execution_count": null,
      "outputs": []
    },
    {
      "cell_type": "code",
      "metadata": {
        "id": "Dy-_js-7E8Ag"
      },
      "source": [
        "# Classification report\n",
        "from sklearn.metrics import classification_report\n",
        "\n",
        "model_report = classification_report(y_train, y_train_pred, target_names=['positive','negative'])\n",
        "\n",
        "f = open('model_report.txt','w')\n",
        "f.writelines(model_report) \n",
        "f.close()"
      ],
      "execution_count": null,
      "outputs": []
    },
    {
      "cell_type": "code",
      "metadata": {
        "id": "TR625VQXH0WP"
      },
      "source": [
        "# ROC curve\n",
        "import matplotlib.pyplot as plt\n",
        "from sklearn.metrics import plot_roc_curve\n",
        "\n",
        "plot_roc_curve(rf, X_test, y_test)  \n",
        "plt.show()"
      ],
      "execution_count": null,
      "outputs": []
    },
    {
      "cell_type": "code",
      "metadata": {
        "id": "ImazzUEwLhjE"
      },
      "source": [
        "plot_roc_curve(rf, X_train, y_train)  \n",
        "plt.show()"
      ],
      "execution_count": null,
      "outputs": []
    },
    {
      "cell_type": "markdown",
      "metadata": {
        "id": "y-EaFk3SnLvc"
      },
      "source": [
        "### **Feature importance**"
      ]
    },
    {
      "cell_type": "code",
      "metadata": {
        "id": "ak50KFHNxmYo"
      },
      "source": [
        "# Display Dataframe of the dataset after feature selection (variance threshold)\n",
        "X2"
      ],
      "execution_count": null,
      "outputs": []
    },
    {
      "cell_type": "code",
      "metadata": {
        "id": "ZFdeHIRXuqo_"
      },
      "source": [
        "# Retrieve feature importance from the RF model\n",
        "importance = pd.Series(rf.feature_importances_, name = 'Gini')\n",
        "\n",
        "# Retrieve feature names\n",
        "feature_names = pd.Series(X2.columns, name = 'Feature')"
      ],
      "execution_count": null,
      "outputs": []
    },
    {
      "cell_type": "code",
      "metadata": {
        "id": "Cq4r6KsC_tb5"
      },
      "source": [
        "# Combine feature names and Gini values into a Dataframe\n",
        "df = pd.concat([feature_names, importance], axis=1, names=['Feature', 'Gini'])\n",
        "df"
      ],
      "execution_count": null,
      "outputs": []
    },
    {
      "cell_type": "code",
      "metadata": {
        "id": "xWHo58SIu1RU"
      },
      "source": [
        "# Plot of feature importance\n",
        "import matplotlib.pyplot as plt\n",
        "import seaborn as sns\n",
        "\n",
        "df_sorted = df.sort_values('Gini', ascending=False)[:20] # Sort by Gini in descending order; Showing only the top 20 results\n",
        "\n",
        "plt.figure(figsize=(5, 10))\n",
        "sns.set_theme(style=\"whitegrid\")\n",
        "ax = sns.barplot(x = 'Gini', y = 'Feature', data = df_sorted)\n",
        "plt.xlabel(\"Feature Importance\")"
      ],
      "execution_count": null,
      "outputs": []
    },
    {
      "cell_type": "markdown",
      "metadata": {
        "id": "TuPnx5mWeizm"
      },
      "source": [
        "---"
      ]
    },
    {
      "cell_type": "markdown",
      "metadata": {
        "id": "RewWucDQbTo3"
      },
      "source": [
        "# **Quickly compare >30 ML algorithms**"
      ]
    },
    {
      "cell_type": "code",
      "metadata": {
        "id": "kh-nDFnTbT-J"
      },
      "source": [
        "! pip install lazypredict"
      ],
      "execution_count": null,
      "outputs": []
    },
    {
      "cell_type": "code",
      "metadata": {
        "id": "01B14Lz2bdMn"
      },
      "source": [
        "# Import libraries\n",
        "import lazypredict\n",
        "from lazypredict.Supervised import LazyClassifier\n",
        "from sklearn.model_selection import train_test_split\n",
        "from sklearn.metrics import matthews_corrcoef\n",
        "\n",
        "# Load dataset\n",
        "X = feature.drop('class', axis=1)\n",
        "y = feature['class'].copy()\n",
        "\n",
        "# Data split\n",
        "X_train, X_test, y_train, y_test = train_test_split(X, y, test_size=0.2, random_state =42, stratify=y)\n",
        "\n",
        "# Defines and builds the lazyclassifier\n",
        "clf = LazyClassifier(verbose=0,ignore_warnings=True, custom_metric=matthews_corrcoef)\n",
        "models_train,predictions_train = clf.fit(X_train, X_train, y_train, y_train)\n",
        "#models_test,predictions_test = clf.fit(X_train, X_test, y_train, y_test)"
      ],
      "execution_count": null,
      "outputs": []
    },
    {
      "cell_type": "code",
      "metadata": {
        "id": "jlu6rioMb5pM"
      },
      "source": [
        "# Prints the model performance (Training set)\n",
        "models_train"
      ],
      "execution_count": null,
      "outputs": []
    },
    {
      "cell_type": "code",
      "metadata": {
        "id": "MFuuVXtQb8bi"
      },
      "source": [
        "# Prints the model performance (Test set)\n",
        "models_test"
      ],
      "execution_count": null,
      "outputs": []
    },
    {
      "cell_type": "code",
      "metadata": {
        "id": "n551PNfGJo9Q"
      },
      "source": [
        "y_test"
      ],
      "execution_count": null,
      "outputs": []
    },
    {
      "cell_type": "code",
      "metadata": {
        "id": "4ONmPLKdcKP4"
      },
      "source": [
        "# Plot of Accuracy\n",
        "import matplotlib.pyplot as plt\n",
        "import seaborn as sns\n",
        "\n",
        "plt.figure(figsize=(5, 10))\n",
        "sns.set_theme(style=\"whitegrid\")\n",
        "ax = sns.barplot(y=models_train.index, x=\"Accuracy\", data=models_train)\n",
        "ax.set(xlim=(0, 1))"
      ],
      "execution_count": null,
      "outputs": []
    },
    {
      "cell_type": "code",
      "metadata": {
        "id": "Bse08KSUW1FJ"
      },
      "source": [
        "# Plot of MCC\n",
        "import matplotlib.pyplot as plt\n",
        "import seaborn as sns\n",
        "\n",
        "plt.figure(figsize=(5, 10))\n",
        "sns.set_theme(style=\"whitegrid\")\n",
        "ax = sns.barplot(y=models_train.index, x=\"matthews_corrcoef\", data=models_train)\n",
        "ax.set(xlim=(0, 1))"
      ],
      "execution_count": null,
      "outputs": []
    },
    {
      "cell_type": "markdown",
      "metadata": {
        "id": "CvITCk5anJ96"
      },
      "source": [
        "---"
      ]
    },
    {
      "cell_type": "markdown",
      "metadata": {
        "id": "90yNQD2WkwR4"
      },
      "source": [
        "# **Random Forest**"
      ]
    },
    {
      "cell_type": "code",
      "metadata": {
        "id": "IL9nwy5ukwR5"
      },
      "source": [
        "# Build random forest model\n",
        "from sklearn.model_selection import cross_validate\n",
        "from sklearn.ensemble import RandomForestClassifier\n",
        "\n",
        "rf = RandomForestClassifier(n_estimators=500)\n",
        "\n",
        "rf.fit(X_train, y_train)"
      ],
      "execution_count": null,
      "outputs": []
    },
    {
      "cell_type": "markdown",
      "metadata": {
        "id": "GerxZiTCkwR5"
      },
      "source": [
        "### **Apply the model to make predictions**"
      ]
    },
    {
      "cell_type": "code",
      "metadata": {
        "id": "56fTflhpkwR5"
      },
      "source": [
        "y_train_pred = rf.predict(X_train)\n",
        "y_test_pred = rf.predict(X_test)"
      ],
      "execution_count": null,
      "outputs": []
    },
    {
      "cell_type": "markdown",
      "metadata": {
        "id": "3X86oPR0kwR6"
      },
      "source": [
        "### **Model performance**"
      ]
    },
    {
      "cell_type": "code",
      "metadata": {
        "id": "5dsr3UnlkwR6"
      },
      "source": [
        "feature['class']"
      ],
      "execution_count": null,
      "outputs": []
    },
    {
      "cell_type": "code",
      "metadata": {
        "id": "wpOt4eKNkwR6"
      },
      "source": [
        "# Simplest and quickest way to obtain the model performance (Accuracy)\n",
        "rf.score(X_test,y_test)"
      ],
      "execution_count": null,
      "outputs": []
    },
    {
      "cell_type": "code",
      "metadata": {
        "id": "A2RXqpagkwR6"
      },
      "source": [
        "# Accuracy\n",
        "from sklearn.metrics import accuracy_score\n",
        "\n",
        "accuracy_score(y_test, y_test_pred)"
      ],
      "execution_count": null,
      "outputs": []
    },
    {
      "cell_type": "code",
      "metadata": {
        "id": "i1ZRjeGakwR6"
      },
      "source": [
        "# Matthew Correlation Coefficient\n",
        "from sklearn.metrics import matthews_corrcoef\n",
        "\n",
        "matthews_corrcoef(y_test, y_test_pred)"
      ],
      "execution_count": null,
      "outputs": []
    },
    {
      "cell_type": "code",
      "metadata": {
        "id": "vEfDCO2mkwR6"
      },
      "source": [
        "# Confusion matrix\n",
        "from sklearn.metrics import confusion_matrix\n",
        "from sklearn.metrics import plot_confusion_matrix\n",
        "confusion_matrix(y_test, y_test_pred)\n",
        "#plot_confusion_matrix(rf, X_test, y_test)  \n",
        "plt.show()"
      ],
      "execution_count": null,
      "outputs": []
    },
    {
      "cell_type": "code",
      "metadata": {
        "id": "r1B4VyemkwR6"
      },
      "source": [
        "# Classification report\n",
        "from sklearn.metrics import classification_report\n",
        "\n",
        "model_report = classification_report(y_train, y_train_pred, target_names=['positive','negative'])\n",
        "\n",
        "f = open('model_report.txt','w')\n",
        "f.writelines(model_report) \n",
        "f.close()"
      ],
      "execution_count": null,
      "outputs": []
    },
    {
      "cell_type": "code",
      "metadata": {
        "id": "ifSXtH1CkwR7"
      },
      "source": [
        "# ROC curve\n",
        "import matplotlib.pyplot as plt\n",
        "from sklearn.metrics import plot_roc_curve\n",
        "\n",
        "plot_roc_curve(rf, X_test, y_test)  \n",
        "plt.show()"
      ],
      "execution_count": null,
      "outputs": []
    },
    {
      "cell_type": "code",
      "metadata": {
        "id": "niDqBM9skwR7"
      },
      "source": [
        "plot_roc_curve(rf, X_train, y_train)  \n",
        "plt.show()"
      ],
      "execution_count": null,
      "outputs": []
    },
    {
      "cell_type": "markdown",
      "metadata": {
        "id": "2q0mSy2dkwR7"
      },
      "source": [
        "### **Feature importance**"
      ]
    },
    {
      "cell_type": "code",
      "metadata": {
        "id": "8ZVrsiuVkwR7"
      },
      "source": [
        "# Display Dataframe of the dataset after feature selection (variance threshold)\n",
        "X2"
      ],
      "execution_count": null,
      "outputs": []
    },
    {
      "cell_type": "code",
      "metadata": {
        "id": "0NDxFWb_kwR7"
      },
      "source": [
        "# Retrieve feature importance from the RF model\n",
        "importance = pd.Series(rf.feature_importances_, name = 'Gini')\n",
        "\n",
        "# Retrieve feature names\n",
        "feature_names = pd.Series(X2.columns, name = 'Feature')"
      ],
      "execution_count": null,
      "outputs": []
    },
    {
      "cell_type": "code",
      "metadata": {
        "id": "S9EhlSr5kwR7"
      },
      "source": [
        "# Combine feature names and Gini values into a Dataframe\n",
        "df = pd.concat([feature_names, importance], axis=1, names=['Feature', 'Gini'])\n",
        "df"
      ],
      "execution_count": null,
      "outputs": []
    },
    {
      "cell_type": "code",
      "metadata": {
        "id": "hF5AIXtBkwR8"
      },
      "source": [
        "# Plot of feature importance\n",
        "import matplotlib.pyplot as plt\n",
        "import seaborn as sns\n",
        "\n",
        "df_sorted = df.sort_values('Gini', ascending=False)[:20] # Sort by Gini in descending order; Showing only the top 20 results\n",
        "\n",
        "plt.figure(figsize=(5, 10))\n",
        "sns.set_theme(style=\"whitegrid\")\n",
        "ax = sns.barplot(x = 'Gini', y = 'Feature', data = df_sorted)\n",
        "plt.xlabel(\"Feature Importance\")"
      ],
      "execution_count": null,
      "outputs": []
    },
    {
      "cell_type": "markdown",
      "metadata": {
        "id": "rmCXYNmakwR8"
      },
      "source": [
        "---"
      ]
    }
  ]
}